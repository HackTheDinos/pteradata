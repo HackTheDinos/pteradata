{
 "cells": [
  {
   "cell_type": "code",
   "execution_count": null,
   "metadata": {
    "collapsed": false
   },
   "outputs": [
    {
     "name": "stdout",
     "output_type": "stream",
     "text": [
      "Processing image #0 img/Zanabazar/COR001.TIF\n",
      "Processing image #1 img/Zanabazar/COR002.TIF\n",
      "Processing image #2 img/Zanabazar/COR003.TIF\n",
      "Processing image #3 img/Zanabazar/COR004.TIF\n",
      "Processing image #4 img/Zanabazar/COR005.TIF\n",
      "Processing image #5 img/Zanabazar/COR006.TIF\n",
      "Processing image #6 img/Zanabazar/COR007.TIF\n",
      "Processing image #7 img/Zanabazar/COR008.TIF\n",
      "Processing image #8 img/Zanabazar/COR009.TIF\n",
      "Processing image #9 img/Zanabazar/COR010.TIF\n",
      "Processing image #10 img/Zanabazar/COR011.TIF\n",
      "Processing image #11 img/Zanabazar/COR012.TIF\n",
      "Processing image #12 img/Zanabazar/COR013.TIF\n",
      "Processing image #13 img/Zanabazar/COR014.TIF\n",
      "Processing image #14 img/Zanabazar/COR015.TIF\n",
      "Processing image #15 img/Zanabazar/COR016.TIF\n",
      "Processing image #16 img/Zanabazar/COR017.TIF\n",
      "Processing image #17 img/Zanabazar/COR018.TIF\n",
      "Processing image #18 img/Zanabazar/COR019.TIF\n",
      "Processing image #19 img/Zanabazar/COR020.TIF\n",
      "Processing image #20 img/Zanabazar/COR021.TIF\n",
      "Processing image #21 img/Zanabazar/COR022.TIF\n",
      "Processing image #22 img/Zanabazar/COR023.TIF\n",
      "Processing image #23 img/Zanabazar/COR024.TIF\n",
      "Processing image #24 img/Zanabazar/COR025.TIF\n",
      "Processing image #25 img/Zanabazar/COR026.TIF\n",
      "Processing image #26 img/Zanabazar/COR027.TIF\n",
      "Processing image #27 img/Zanabazar/COR028.TIF\n",
      "Processing image #28 img/Zanabazar/COR029.TIF"
     ]
    }
   ],
   "source": [
    "import glob\n",
    "import numpy as np\n",
    "import skimage as sk\n",
    "from PIL import Image\n",
    "\n",
    "# path for image corpus\n",
    "path = 'img/Zanabazar/*.TIF';\n",
    "images = glob.glob(path);\n",
    "\n",
    "# variables\n",
    "image3D = [];\n",
    "background = None;\n",
    "transparencyThreshold = 5;\n",
    "\n",
    "# iterate through all images in folder\n",
    "for index, image in enumerate(images):\n",
    "    print 'Processing image #' + str(index) + \" \" + image;\n",
    "    img = Image.open(image);   # open the image\n",
    "    img = img.convert(\"RGBA\"); # convert image to RGBA format\n",
    "    if not background:         # if background doesn't exist\n",
    "        background = img;      # use first image\n",
    "    pixels = img.getdata();    # get pixel data\n",
    "\n",
    "    # iterate through all pixel data\n",
    "    newPixels = [];\n",
    "    for rgb in pixels:\n",
    "        mean = np.mean(rgb);\n",
    "        # if pixel value less than threshold\n",
    "        if mean <= transparencyThreshold: \n",
    "            newPixels.append((0, 0, 0, 0));  # make transparent\n",
    "        else: # otherwise use the value, but make it more transparent the closer to black\n",
    "            newPixels.append((rgb[0], rgb[1], rgb[2], int(mean)));\n",
    "        \n",
    "    img.putdata(newPixels);\n",
    "    if background != img:\n",
    "        background.paste(img, (0, 0), img);\n",
    "        \n",
    "background.show();\n",
    "    \n",
    "    \n",
    "#    img.save(\"img2.png\", \"PNG\")"
   ]
  },
  {
   "cell_type": "code",
   "execution_count": 6,
   "metadata": {
    "collapsed": false
   },
   "outputs": [
    {
     "name": "stdout",
     "output_type": "stream",
     "text": [
      "2.0\n"
     ]
    }
   ],
   "source": [
    "import numpy as np\n",
    "print np.mean([1, 2, 3]);\n"
   ]
  },
  {
   "cell_type": "code",
   "execution_count": null,
   "metadata": {
    "collapsed": true
   },
   "outputs": [],
   "source": []
  }
 ],
 "metadata": {
  "kernelspec": {
   "display_name": "Python 2",
   "language": "python",
   "name": "python2"
  },
  "language_info": {
   "codemirror_mode": {
    "name": "ipython",
    "version": 2
   },
   "file_extension": ".py",
   "mimetype": "text/x-python",
   "name": "python",
   "nbconvert_exporter": "python",
   "pygments_lexer": "ipython2",
   "version": "2.7.10"
  }
 },
 "nbformat": 4,
 "nbformat_minor": 0
}
