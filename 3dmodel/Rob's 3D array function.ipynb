{
 "cells": [
  {
   "cell_type": "code",
   "execution_count": null,
   "metadata": {
    "collapsed": true
   },
   "outputs": [],
   "source": [
    "def create_3D_grid(direc):\n",
    "   \"\"\"\n",
    "   Given a directory of .tif files, stack them on top of one another to create\n",
    "   a 3-D field. Data type is determined by the .tif files. \n",
    "   \"\"\"\n",
    "   files = [f for f in os.listdir(direc) if ('.tif' in f) or ('.TIF' in f)]\n",
    "#    print(files)\n",
    "   nz=len(files)\n",
    "   X0=plt.imread(direc+files[0])\n",
    "   nx,ny=X0.shape\n",
    "   print(nx,ny,nz)\n",
    "   n=0\n",
    "   X=np.zeros((nx,ny,nz)).astype(X0.dtype)\n",
    "   for f in files:\n",
    "       X[:,:,n]=plt.imread(direc+f)\n",
    "       n+=1\n",
    "   return X"
   ]
  }
 ],
 "metadata": {
  "kernelspec": {
   "display_name": "Python 2",
   "language": "python",
   "name": "python2"
  },
  "language_info": {
   "codemirror_mode": {
    "name": "ipython",
    "version": 2
   },
   "file_extension": ".py",
   "mimetype": "text/x-python",
   "name": "python",
   "nbconvert_exporter": "python",
   "pygments_lexer": "ipython2",
   "version": "2.7.10"
  }
 },
 "nbformat": 4,
 "nbformat_minor": 0
}
