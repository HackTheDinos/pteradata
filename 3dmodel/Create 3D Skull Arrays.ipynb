{
 "cells": [
  {
   "cell_type": "code",
   "execution_count": 1,
   "metadata": {
    "collapsed": true
   },
   "outputs": [],
   "source": [
    "from skimage import data, io, filters,feature\n",
    "import numpy as np\n",
    "import matplotlib.pyplot as plt\n",
    "%matplotlib inline\n",
    "import scipy.ndimage\n",
    "import os"
   ]
  },
  {
   "cell_type": "code",
   "execution_count": 2,
   "metadata": {
    "collapsed": false
   },
   "outputs": [],
   "source": [
    "def create_3D_grid(direc):\n",
    "    \"\"\"\n",
    "    Given a directory of .tif files, stack them on top of one another to create\n",
    "    a 3-D field. Data type is determined by the .tif files. \n",
    "    \"\"\"\n",
    "    files = [f for f in os.listdir(direc) if ('.tif' in f) or ('.TIF' in f)]\n",
    "#    print(files)\n",
    "    nz=len(files)\n",
    "    X0=plt.imread(direc+files[0])\n",
    "    nx,ny=X0.shape\n",
    "    print(nx,ny,nz)\n",
    "    n=0\n",
    "    X=np.zeros((nx,ny,nz)).astype(X0.dtype)\n",
    "    for f in files:\n",
    "        X[:,:,n]=plt.imread(direc+f)\n",
    "        n+=1\n",
    "    return X"
   ]
  },
  {
   "cell_type": "code",
   "execution_count": 33,
   "metadata": {
    "collapsed": false
   },
   "outputs": [
    {
     "name": "stdout",
     "output_type": "stream",
     "text": [
      "1024 1024 431\n"
     ]
    }
   ],
   "source": [
    "X2=create_3D_grid('Alioramus/tyran/2800/16bit/')\n",
    "np.save('Alioramus',X2)"
   ]
  },
  {
   "cell_type": "code",
   "execution_count": 32,
   "metadata": {
    "collapsed": false
   },
   "outputs": [
    {
     "name": "stdout",
     "output_type": "stream",
     "text": [
      "512 512 372\n"
     ]
    }
   ],
   "source": [
    "X2=create_3D_grid('Anas/16BIT/')\n",
    "np.save('Anas',X2)"
   ]
  },
  {
   "cell_type": "code",
   "execution_count": 29,
   "metadata": {
    "collapsed": false
   },
   "outputs": [
    {
     "name": "stdout",
     "output_type": "stream",
     "text": [
      "1024 1024 810\n"
     ]
    }
   ],
   "source": [
    "X2=create_3D_grid('Brotogeris/16bitrot Folder/')\n",
    "np.save('Brotogeris',X2)"
   ]
  },
  {
   "cell_type": "code",
   "execution_count": 28,
   "metadata": {
    "collapsed": false
   },
   "outputs": [
    {
     "name": "stdout",
     "output_type": "stream",
     "text": [
      "1024 1024 475\n"
     ]
    }
   ],
   "source": [
    "X2=create_3D_grid('Chordeiles/16bitrot/')\n",
    "np.save('Chordeiles',X2)"
   ]
  },
  {
   "cell_type": "code",
   "execution_count": 7,
   "metadata": {
    "collapsed": false
   },
   "outputs": [
    {
     "name": "stdout",
     "output_type": "stream",
     "text": [
      "1024 1024 855\n"
     ]
    }
   ],
   "source": [
    "X2=create_3D_grid('Coragyps/16bitrot/')"
   ]
  },
  {
   "cell_type": "code",
   "execution_count": 27,
   "metadata": {
    "collapsed": false
   },
   "outputs": [
    {
     "name": "stdout",
     "output_type": "stream",
     "text": [
      "1024 1024 1325\n"
     ]
    }
   ],
   "source": [
    "X2=create_3D_grid('fregata/16bitrot/')\n",
    "np.save('fregata',X2)"
   ]
  },
  {
   "cell_type": "code",
   "execution_count": 26,
   "metadata": {
    "collapsed": false
   },
   "outputs": [
    {
     "name": "stdout",
     "output_type": "stream",
     "text": [
      "768 768 1455\n"
     ]
    }
   ],
   "source": [
    "X2=create_3D_grid('Gavia/8bit/')\n",
    "np.save('Gavia',X2)"
   ]
  },
  {
   "cell_type": "code",
   "execution_count": 25,
   "metadata": {
    "collapsed": false
   },
   "outputs": [
    {
     "name": "stdout",
     "output_type": "stream",
     "text": [
      "1024 1024 975\n"
     ]
    }
   ],
   "source": [
    "X2=create_3D_grid('Grus/16bitrot/')\n",
    "np.save('Grus',X2)"
   ]
  },
  {
   "cell_type": "code",
   "execution_count": 24,
   "metadata": {
    "collapsed": false
   },
   "outputs": [
    {
     "name": "stdout",
     "output_type": "stream",
     "text": [
      "1024 1024 945\n"
     ]
    }
   ],
   "source": [
    "X2=create_3D_grid('Melanerpes/16bitrot/')\n",
    "np.save('Melanerpes',X2)"
   ]
  },
  {
   "cell_type": "code",
   "execution_count": 23,
   "metadata": {
    "collapsed": false
   },
   "outputs": [
    {
     "name": "stdout",
     "output_type": "stream",
     "text": [
      "399 392 625\n"
     ]
    }
   ],
   "source": [
    "X2=create_3D_grid('Zanabazar/8-Bit/TROODON/SLICES/CORONAL/')\n",
    "np.save('Zanabazar_coronal',X2)"
   ]
  },
  {
   "cell_type": "code",
   "execution_count": 22,
   "metadata": {
    "collapsed": false
   },
   "outputs": [
    {
     "name": "stdout",
     "output_type": "stream",
     "text": [
      "399 1228 184\n"
     ]
    }
   ],
   "source": [
    "X2=create_3D_grid('Zanabazar/8-Bit/TROODON/SLICES/SAGITTAL//')\n",
    "np.save('Zanabazar_sagittal',X2)"
   ]
  },
  {
   "cell_type": "code",
   "execution_count": 4,
   "metadata": {
    "collapsed": false
   },
   "outputs": [
    {
     "name": "stdout",
     "output_type": "stream",
     "text": [
      "392 1230 196\n"
     ]
    }
   ],
   "source": [
    "X2=create_3D_grid('../data/Zanabazar/8-Bit/TROODON/SLICES/HORIZON/')\n",
    "np.save('Zanabazar_horizon',X2)"
   ]
  },
  {
   "cell_type": "code",
   "execution_count": 42,
   "metadata": {
    "collapsed": false
   },
   "outputs": [
    {
     "data": {
      "image/png": "[encoded data removed]",
      "text/plain": [
       "<matplotlib.figure.Figure at 0x11573a358>"
      ]
     },
     "metadata": {},
     "output_type": "display_data"
    }
   ],
   "source": [
    "plt.imshow(X2[:,:,100])\n",
    "plt.show()"
   ]
  },
  {
   "cell_type": "code",
   "execution_count": null,
   "metadata": {
    "collapsed": true
   },
   "outputs": [],
   "source": []
  }
 ],
 "metadata": {
  "kernelspec": {
   "display_name": "Python 3",
   "language": "python",
   "name": "python3"
  },
  "language_info": {
   "codemirror_mode": {
    "name": "ipython",
    "version": 3
   },
   "file_extension": ".py",
   "mimetype": "text/x-python",
   "name": "python",
   "nbconvert_exporter": "python",
   "pygments_lexer": "ipython3",
   "version": "3.4.3"
  }
 },
 "nbformat": 4,
 "nbformat_minor": 0
}
