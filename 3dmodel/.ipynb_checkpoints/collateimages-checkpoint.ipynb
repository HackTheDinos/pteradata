{
 "cells": [
  {
   "cell_type": "code",
   "execution_count": null,
   "metadata": {
    "collapsed": false
   },
   "outputs": [],
   "source": [
    "import time\n",
    "import sys\n",
    "import glob\n",
    "import numpy as np\n",
    "import skimage as sk\n",
    "from PIL import Image\n",
    "\n",
    "# path for image corpus\n",
    "pathCoronal = '../../Zanabazar/CORONAL/*.*';\n",
    "pathSagittal = '../../Zanabazar/SAGITTAL/*.*';\n",
    "pathHorizon = '../../Zanabazar/HORIZON/*.*';\n",
    "directionForward = False;\n",
    "path = pathCoronal;\n",
    "\n",
    "# variables\n",
    "image3D = [];                 # container for 3D image data\n",
    "background = None;            # background image data for ghetto paste render\n",
    "transparencyThreshold = 5;    # threshold for setting transparent values\n",
    "\n",
    "images = glob.glob(path);     # get all images in the folder\n",
    "if not directionForward:\n",
    "    print \"Iterating backwards\";\n",
    "    images.reverse();\n",
    "    \n",
    "# iterate through all images in folder\n",
    "for index, image in enumerate(images):\n",
    "    print 'Processing image #' + str(index) + \": \" + image;\n",
    "    img = Image.open(image);   # open the image\n",
    "    img = img.convert(\"RGBA\"); # convert image to RGBA format\n",
    "    if not background:         # if background doesn't exist\n",
    "        background = img;      # use first image\n",
    "    pixels = img.getdata();    # get pixel data\n",
    "\n",
    "    # iterate through all pixel data\n",
    "    newPixels = [];\n",
    "    for rgb in pixels:\n",
    "        mean = (rgb[0] + rgb[1] + rgb[2]) / 3;\n",
    "        # if pixel value less than threshold\n",
    "        if mean <= transparencyThreshold: \n",
    "            newPixels.append((0, 0, 0, 0));  # make transparent\n",
    "        else: # otherwise use the value, but make it more transparent the closer to black\n",
    "            newPixels.append((rgb[0], rgb[1], rgb[2], int(mean)));\n",
    "    \n",
    "    img.putdata(newPixels);\n",
    "    if background != img:\n",
    "        background.paste(img, (0, 0), img);\n",
    "        \n",
    "background.show();"
   ]
  },
  {
   "cell_type": "code",
   "execution_count": 25,
   "metadata": {
    "collapsed": false
   },
   "outputs": [
    {
     "name": "stdout",
     "output_type": "stream",
     "text": [
      "<type 'list'>\n"
     ]
    }
   ],
   "source": [
    "import glob\n",
    "import numpy as np\n",
    "path = '../../Zanabazar/CORONAL/*';\n",
    "images = glob.glob(path);     # get all images in the folder\n",
    "print type(images);\n"
   ]
  }
 ],
 "metadata": {
  "kernelspec": {
   "display_name": "Python 2",
   "language": "python",
   "name": "python2"
  },
  "language_info": {
   "codemirror_mode": {
    "name": "ipython",
    "version": 2
   },
   "file_extension": ".py",
   "mimetype": "text/x-python",
   "name": "python",
   "nbconvert_exporter": "python",
   "pygments_lexer": "ipython2",
   "version": "2.7.10"
  }
 },
 "nbformat": 4,
 "nbformat_minor": 0
}
