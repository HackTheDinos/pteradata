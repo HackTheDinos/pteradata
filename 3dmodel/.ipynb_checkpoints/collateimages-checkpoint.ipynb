{
 "cells": [
  {
   "cell_type": "code",
   "execution_count": null,
   "metadata": {
    "collapsed": false
   },
   "outputs": [
    {
     "name": "stdout",
     "output_type": "stream",
     "text": [
      "Processing image #0 img/Zanabazar/COR001.TIF\n",
      "Processing image #1 img/Zanabazar/COR002.TIF\n",
      "Processing image #2 img/Zanabazar/COR003.TIF\n",
      "Processing image #3 img/Zanabazar/COR004.TIF\n",
      "Processing image #4 img/Zanabazar/COR005.TIF\n",
      "Processing image #5 img/Zanabazar/COR006.TIF\n",
      "Processing image #6 img/Zanabazar/COR007.TIF\n",
      "Processing image #7 img/Zanabazar/COR008.TIF\n",
      "Processing image #8 img/Zanabazar/COR009.TIF\n",
      "Processing image #9 img/Zanabazar/COR010.TIF\n",
      "Processing image #10 img/Zanabazar/COR011.TIF\n",
      "Processing image #11 img/Zanabazar/COR012.TIF\n",
      "Processing image #12 img/Zanabazar/COR013.TIF\n",
      "Processing image #13 img/Zanabazar/COR014.TIF\n",
      "Processing image #14 img/Zanabazar/COR015.TIF\n",
      "Processing image #15 img/Zanabazar/COR016.TIF\n",
      "Processing image #16 img/Zanabazar/COR017.TIF\n",
      "Processing image #17 img/Zanabazar/COR018.TIF\n",
      "Processing image #18 img/Zanabazar/COR019.TIF\n",
      "Processing image #19 img/Zanabazar/COR020.TIF\n",
      "Processing image #20 img/Zanabazar/COR021.TIF\n",
      "Processing image #21 img/Zanabazar/COR022.TIF\n",
      "Processing image #22 img/Zanabazar/COR023.TIF\n",
      "Processing image #23 img/Zanabazar/COR024.TIF\n",
      "Processing image #24 img/Zanabazar/COR025.TIF\n",
      "Processing image #25 img/Zanabazar/COR026.TIF\n",
      "Processing image #26 img/Zanabazar/COR027.TIF\n",
      "Processing image #27 img/Zanabazar/COR028.TIF\n",
      "Processing image #28 img/Zanabazar/COR029.TIF\n",
      "Processing image #29 img/Zanabazar/COR030.TIF\n",
      "Processing image #30 img/Zanabazar/COR031.TIF\n",
      "Processing image #31 img/Zanabazar/COR032.TIF\n",
      "Processing image #32 img/Zanabazar/COR033.TIF\n",
      "Processing image #33 img/Zanabazar/COR034.TIF\n",
      "Processing image #34 img/Zanabazar/COR035.TIF\n",
      "Processing image #35 img/Zanabazar/COR036.TIF\n",
      "Processing image #36 img/Zanabazar/COR037.TIF\n",
      "Processing image #37 img/Zanabazar/COR038.TIF\n",
      "Processing image #38 img/Zanabazar/COR039.TIF\n",
      "Processing image #39 img/Zanabazar/COR040.TIF\n",
      "Processing image #40 img/Zanabazar/COR041.TIF\n",
      "Processing image #41 img/Zanabazar/COR042.TIF\n",
      "Processing image #42 img/Zanabazar/COR043.TIF\n",
      "Processing image #43 img/Zanabazar/COR044.TIF\n",
      "Processing image #44 img/Zanabazar/COR045.TIF\n",
      "Processing image #45 img/Zanabazar/COR046.TIF\n",
      "Processing image #46 img/Zanabazar/COR047.TIF\n",
      "Processing image #47 img/Zanabazar/COR048.TIF\n",
      "Processing image #48 img/Zanabazar/COR049.TIF\n",
      "Processing image #49 img/Zanabazar/COR050.TIF\n",
      "Processing image #50 img/Zanabazar/COR051.TIF\n",
      "Processing image #51 img/Zanabazar/COR052.TIF\n",
      "Processing image #52 img/Zanabazar/COR053.TIF\n",
      "Processing image #53 img/Zanabazar/COR054.TIF\n",
      "Processing image #54 img/Zanabazar/COR055.TIF\n",
      "Processing image #55 img/Zanabazar/COR056.TIF\n",
      "Processing image #56 img/Zanabazar/COR057.TIF\n",
      "Processing image #57 img/Zanabazar/COR058.TIF\n",
      "Processing image #58 img/Zanabazar/COR059.TIF\n",
      "Processing image #59 img/Zanabazar/COR060.TIF\n",
      "Processing image #60 img/Zanabazar/COR061.TIF\n",
      "Processing image #61 img/Zanabazar/COR062.TIF\n",
      "Processing image #62 img/Zanabazar/COR063.TIF\n",
      "Processing image #63 img/Zanabazar/COR064.TIF\n",
      "Processing image #64 img/Zanabazar/COR065.TIF\n",
      "Processing image #65 img/Zanabazar/COR066.TIF\n",
      "Processing image #66 img/Zanabazar/COR067.TIF\n",
      "Processing image #67 img/Zanabazar/COR068.TIF\n",
      "Processing image #68 img/Zanabazar/COR069.TIF\n",
      "Processing image #69 img/Zanabazar/COR070.TIF\n",
      "Processing image #70 img/Zanabazar/COR071.TIF\n",
      "Processing image #71 img/Zanabazar/COR072.TIF\n",
      "Processing image #72 img/Zanabazar/COR073.TIF\n",
      "Processing image #73 img/Zanabazar/COR074.TIF\n",
      "Processing image #74 img/Zanabazar/COR075.TIF\n",
      "Processing image #75 img/Zanabazar/COR076.TIF\n",
      "Processing image #76 img/Zanabazar/COR077.TIF\n",
      "Processing image #77 img/Zanabazar/COR078.TIF\n",
      "Processing image #78 img/Zanabazar/COR079.TIF\n",
      "Processing image #79 img/Zanabazar/COR080.TIF\n",
      "Processing image #80 img/Zanabazar/COR081.TIF\n",
      "Processing image #81 img/Zanabazar/COR082.TIF\n",
      "Processing image #82 img/Zanabazar/COR083.TIF\n",
      "Processing image #83 img/Zanabazar/COR084.TIF\n",
      "Processing image #84 img/Zanabazar/COR085.TIF\n",
      "Processing image #85 img/Zanabazar/COR086.TIF\n",
      "Processing image #86 img/Zanabazar/COR087.TIF\n",
      "Processing image #87 img/Zanabazar/COR088.TIF\n",
      "Processing image #88 img/Zanabazar/COR089.TIF\n",
      "Processing image #89 img/Zanabazar/COR090.TIF\n",
      "Processing image #90 img/Zanabazar/COR091.TIF"
     ]
    }
   ],
   "source": [
    "import glob\n",
    "import numpy as np\n",
    "import skimage as sk\n",
    "from PIL import Image\n",
    "\n",
    "# path for image corpus\n",
    "path = 'img/Zanabazar/*.TIF';\n",
    "images = glob.glob(path);     # get all images in the folder\n",
    "\n",
    "# variables\n",
    "image3D = [];                 # container for 3D image data\n",
    "background = None;            # background image data for ghetto paste render\n",
    "transparencyThreshold = 5;    # threshold for setting transparent values\n",
    "\n",
    "# iterate through all images in folder\n",
    "for index, image in enumerate(images):\n",
    "    print 'Processing image #' + str(index);\n",
    "    img = Image.open(image);   # open the image\n",
    "    img = img.convert(\"RGBA\"); # convert image to RGBA format\n",
    "    if not background:         # if background doesn't exist\n",
    "        background = img;      # use first image\n",
    "    pixels = img.getdata();    # get pixel data\n",
    "\n",
    "    # iterate through all pixel data\n",
    "    newPixels = [];\n",
    "    for rgb in pixels:\n",
    "        mean = np.mean(rgb);\n",
    "        # if pixel value less than threshold\n",
    "        if mean <= transparencyThreshold: \n",
    "            newPixels.append((0, 0, 0, 0));  # make transparent\n",
    "        else: # otherwise use the value, but make it more transparent the closer to black\n",
    "            newPixels.append((rgb[0], rgb[1], rgb[2], int(mean)));\n",
    "        \n",
    "    img.putdata(newPixels);\n",
    "    if background != img:\n",
    "        background.paste(img, (0, 0), img);\n",
    "        \n",
    "background.show();\n",
    "    \n",
    "    \n",
    "#    img.save(\"img2.png\", \"PNG\")"
   ]
  },
  {
   "cell_type": "code",
   "execution_count": 6,
   "metadata": {
    "collapsed": false
   },
   "outputs": [
    {
     "name": "stdout",
     "output_type": "stream",
     "text": [
      "2.0\n"
     ]
    }
   ],
   "source": [
    "import numpy as np\n",
    "print np.mean([1, 2, 3]);\n"
   ]
  },
  {
   "cell_type": "code",
   "execution_count": null,
   "metadata": {
    "collapsed": true
   },
   "outputs": [],
   "source": []
  }
 ],
 "metadata": {
  "kernelspec": {
   "display_name": "Python 2",
   "language": "python",
   "name": "python2"
  },
  "language_info": {
   "codemirror_mode": {
    "name": "ipython",
    "version": 2
   },
   "file_extension": ".py",
   "mimetype": "text/x-python",
   "name": "python",
   "nbconvert_exporter": "python",
   "pygments_lexer": "ipython2",
   "version": "2.7.10"
  }
 },
 "nbformat": 4,
 "nbformat_minor": 0
}
