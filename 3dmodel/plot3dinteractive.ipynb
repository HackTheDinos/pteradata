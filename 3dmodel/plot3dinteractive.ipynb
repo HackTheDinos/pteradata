{
 "cells": [
  {
   "cell_type": "code",
   "execution_count": 5,
   "metadata": {
    "collapsed": false
   },
   "outputs": [],
   "source": [
    "# Now generate interactive 3D plot with all features\n",
    "from mpl_toolkits import mplot3d\n",
    "import numpy as np\n",
    "import matplotlib.pyplot as plt\n",
    "from IPython.html.widgets import interact\n",
    "\n",
    "mean = range(1,100)\n",
    "stddev = range(1,100)\n",
    "counts = range(1,100)\n",
    "samples = 99;\n",
    "\n",
    "def plot_3D(elev=30, azim=30):\n",
    "   plt.figure(num=1, figsize=(9, 7)) \n",
    "   ax = plt.subplot(projection='3d')\n",
    "   ax.scatter3D(mean, stddev, counts, s=samples)\n",
    "   ax.view_init(elev=elev, azim=azim)\n",
    "   ax.set_xlabel('mean')\n",
    "   ax.set_ylabel('stddev')\n",
    "   ax.set_zlabel('counts')\n",
    "   \n",
    "interact(plot_3D, elev=[-90, 90], azip=(-180, 180));"
   ]
  }
 ],
 "metadata": {
  "kernelspec": {
   "display_name": "Python 2",
   "language": "python",
   "name": "python2"
  },
  "language_info": {
   "codemirror_mode": {
    "name": "ipython",
    "version": 2
   },
   "file_extension": ".py",
   "mimetype": "text/x-python",
   "name": "python",
   "nbconvert_exporter": "python",
   "pygments_lexer": "ipython2",
   "version": "2.7.10"
  }
 },
 "nbformat": 4,
 "nbformat_minor": 0
}
