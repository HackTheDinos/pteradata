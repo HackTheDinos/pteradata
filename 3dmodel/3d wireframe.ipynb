{
 "cells": [
  {
   "cell_type": "code",
   "execution_count": 4,
   "metadata": {
    "collapsed": false
   },
   "outputs": [
    {
     "name": "stdout",
     "output_type": "stream",
     "text": [
      "[[-30.  -29.5 -29.  ...,  28.5  29.   29.5]\n",
      " [-30.  -29.5 -29.  ...,  28.5  29.   29.5]\n",
      " [-30.  -29.5 -29.  ...,  28.5  29.   29.5]\n",
      " ..., \n",
      " [-30.  -29.5 -29.  ...,  28.5  29.   29.5]\n",
      " [-30.  -29.5 -29.  ...,  28.5  29.   29.5]\n",
      " [-30.  -29.5 -29.  ...,  28.5  29.   29.5]]\n",
      "[[-30.  -30.  -30.  ..., -30.  -30.  -30. ]\n",
      " [-29.5 -29.5 -29.5 ..., -29.5 -29.5 -29.5]\n",
      " [-29.  -29.  -29.  ..., -29.  -29.  -29. ]\n",
      " ..., \n",
      " [ 28.5  28.5  28.5 ...,  28.5  28.5  28.5]\n",
      " [ 29.   29.   29.  ...,  29.   29.   29. ]\n",
      " [ 29.5  29.5  29.5 ...,  29.5  29.5  29.5]]\n",
      "[[-0.00982064 -0.0113957  -0.01319036 ..., -0.01522953 -0.01319036\n",
      "  -0.0113957 ]\n",
      " [-0.0113957  -0.01322338 -0.01530587 ..., -0.01767209 -0.01530587\n",
      "  -0.01322338]\n",
      " [-0.01319036 -0.01530587 -0.01771632 ..., -0.02045518 -0.01771632\n",
      "  -0.01530587]\n",
      " ..., \n",
      " [-0.01200234 -0.01414685 -0.01660867 ...,  0.02918791  0.03019517\n",
      "   0.03085725]\n",
      " [-0.01097235 -0.01288301 -0.01507265 ...,  0.01583738  0.01709512\n",
      "   0.01804782]\n",
      " [-0.00988645 -0.01157475 -0.01350698 ...,  0.00702321  0.0083816\n",
      "   0.00947216]]\n"
     ]
    }
   ],
   "source": [
    "from mpl_toolkits.mplot3d import axes3d\n",
    "import matplotlib.pyplot as plt\n",
    "import numpy as np\n",
    "\n",
    "fig = plt.figure()\n",
    "ax = fig.add_subplot(111, projection='3d')\n",
    "X, Y, Z = axes3d.get_test_data(0.05)\n",
    "print X;\n",
    "print Y;\n",
    "print Z;\n",
    "ax.plot_wireframe(X, Y, Z, rstride=10, cstride=10)\n",
    "\n",
    "plt.show()\n"
   ]
  }
 ],
 "metadata": {
  "kernelspec": {
   "display_name": "Python 2",
   "language": "python",
   "name": "python2"
  },
  "language_info": {
   "codemirror_mode": {
    "name": "ipython",
    "version": 2
   },
   "file_extension": ".py",
   "mimetype": "text/x-python",
   "name": "python",
   "nbconvert_exporter": "python",
   "pygments_lexer": "ipython2",
   "version": "2.7.10"
  }
 },
 "nbformat": 4,
 "nbformat_minor": 0
}
